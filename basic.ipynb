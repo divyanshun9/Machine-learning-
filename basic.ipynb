{
 "cells": [
  {
   "cell_type": "markdown",
   "id": "cf11fe8f",
   "metadata": {},
   "source": [
    "# Basics of python\n",
    "\n",
    "#### * to add heading(select Markdown)\n",
    "      - #<space> statement\n",
    "      - ##<space> statement   to minimize the size of heading\n",
    " \n",
    "#### * few general use shortcut keys\n",
    "      - shift + enter (to run and add new cell)\n",
    "      - ctrl +enter   (to run cell)\n",
    "      - enter         (to enter edit mode)\n",
    "      - esc + a       (to add a cell above)\n",
    "      - esc +b        (to add a cell below)\n",
    "      - ese +d+d      (to delete a cell)\n",
    "#### * comments\n",
    "      -#______#   single line comments\n",
    "      -'''_____\n",
    "          _____'''  multiline comments\n",
    "\n",
    "\n",
    "\n",
    "## integer"
   ]
  },
  {
   "cell_type": "code",
   "execution_count": 5,
   "id": "476f7bdd",
   "metadata": {},
   "outputs": [
    {
     "data": {
      "text/plain": [
       "30"
      ]
     },
     "execution_count": 5,
     "metadata": {},
     "output_type": "execute_result"
    }
   ],
   "source": [
    "10+20"
   ]
  },
  {
   "cell_type": "code",
   "execution_count": 6,
   "id": "c0695e20",
   "metadata": {},
   "outputs": [
    {
     "data": {
      "text/plain": [
       "200"
      ]
     },
     "execution_count": 6,
     "metadata": {},
     "output_type": "execute_result"
    }
   ],
   "source": [
    "10*20"
   ]
  },
  {
   "cell_type": "code",
   "execution_count": 7,
   "id": "632c671e",
   "metadata": {},
   "outputs": [
    {
     "data": {
      "text/plain": [
       "2.5"
      ]
     },
     "execution_count": 7,
     "metadata": {},
     "output_type": "execute_result"
    }
   ],
   "source": [
    "5/2"
   ]
  },
  {
   "cell_type": "code",
   "execution_count": 8,
   "id": "865ba1d2",
   "metadata": {},
   "outputs": [
    {
     "data": {
      "text/plain": [
       "8"
      ]
     },
     "execution_count": 8,
     "metadata": {},
     "output_type": "execute_result"
    }
   ],
   "source": [
    "2**3"
   ]
  },
  {
   "cell_type": "code",
   "execution_count": 9,
   "id": "1ccb8795",
   "metadata": {},
   "outputs": [
    {
     "data": {
      "text/plain": [
       "'AAAAAAAAAAA'"
      ]
     },
     "execution_count": 9,
     "metadata": {},
     "output_type": "execute_result"
    }
   ],
   "source": [
    "11*'A'"
   ]
  },
  {
   "cell_type": "code",
   "execution_count": 10,
   "id": "903b97e6",
   "metadata": {},
   "outputs": [
    {
     "data": {
      "text/plain": [
       "int"
      ]
     },
     "execution_count": 10,
     "metadata": {},
     "output_type": "execute_result"
    }
   ],
   "source": [
    "type(1)"
   ]
  },
  {
   "cell_type": "code",
   "execution_count": 11,
   "id": "b05cebfc",
   "metadata": {},
   "outputs": [
    {
     "data": {
      "text/plain": [
       "str"
      ]
     },
     "execution_count": 11,
     "metadata": {},
     "output_type": "execute_result"
    }
   ],
   "source": [
    "type('Divyanshu negi')"
   ]
  },
  {
   "cell_type": "markdown",
   "id": "00fd5557",
   "metadata": {},
   "source": [
    "## string\n"
   ]
  },
  {
   "cell_type": "code",
   "execution_count": 12,
   "id": "6ed1016a",
   "metadata": {},
   "outputs": [
    {
     "data": {
      "text/plain": [
       "'hello'"
      ]
     },
     "execution_count": 12,
     "metadata": {},
     "output_type": "execute_result"
    }
   ],
   "source": [
    "\"hello\""
   ]
  },
  {
   "cell_type": "code",
   "execution_count": 13,
   "id": "d58638aa",
   "metadata": {},
   "outputs": [
    {
     "data": {
      "text/plain": [
       "'world'"
      ]
     },
     "execution_count": 13,
     "metadata": {},
     "output_type": "execute_result"
    }
   ],
   "source": [
    "'world'"
   ]
  },
  {
   "cell_type": "code",
   "execution_count": 14,
   "id": "40b41c7f",
   "metadata": {},
   "outputs": [
    {
     "data": {
      "text/plain": [
       "str"
      ]
     },
     "execution_count": 14,
     "metadata": {},
     "output_type": "execute_result"
    }
   ],
   "source": [
    "type(\"hello world\")"
   ]
  },
  {
   "cell_type": "markdown",
   "id": "2461df35",
   "metadata": {},
   "source": [
    "## variable decleration\n",
    "\n",
    "######  *in python need not specify the datatype\n"
   ]
  },
  {
   "cell_type": "code",
   "execution_count": 17,
   "id": "f1e30eb3",
   "metadata": {},
   "outputs": [],
   "source": [
    "a=10\n",
    "b=20"
   ]
  },
  {
   "cell_type": "code",
   "execution_count": 18,
   "id": "2dfefaa8",
   "metadata": {},
   "outputs": [
    {
     "name": "stdout",
     "output_type": "stream",
     "text": [
      "30\n"
     ]
    }
   ],
   "source": [
    "print(a+b)"
   ]
  },
  {
   "cell_type": "code",
   "execution_count": 19,
   "id": "c59f5ba7",
   "metadata": {},
   "outputs": [
    {
     "data": {
      "text/plain": [
       "int"
      ]
     },
     "execution_count": 19,
     "metadata": {},
     "output_type": "execute_result"
    }
   ],
   "source": [
    "type(a)"
   ]
  },
  {
   "cell_type": "markdown",
   "id": "89de6e97",
   "metadata": {},
   "source": [
    "###### *to know the functionality of function\n",
    "######        function_name<shift+tab>()"
   ]
  },
  {
   "cell_type": "code",
   "execution_count": 21,
   "id": "cdedba33",
   "metadata": {},
   "outputs": [
    {
     "name": "stdout",
     "output_type": "stream",
     "text": [
      "30\n",
      "200\n",
      "0.5\n",
      "-300\n"
     ]
    }
   ],
   "source": [
    "print(a+b)\n",
    "print(a*b)\n",
    "print(a/b)\n",
    "print((a+b)*(a-b))"
   ]
  },
  {
   "cell_type": "code",
   "execution_count": 24,
   "id": "8999e986",
   "metadata": {},
   "outputs": [],
   "source": [
    "first=\"divyanshu\"\n",
    "last= \"negi\""
   ]
  },
  {
   "cell_type": "code",
   "execution_count": 27,
   "id": "e144cc3a",
   "metadata": {},
   "outputs": [
    {
     "name": "stdout",
     "output_type": "stream",
     "text": [
      "my first name is divyanshu my last name is negi\n"
     ]
    }
   ],
   "source": [
    "print(\"my first name is {} my last name is {}\".format(first,last))"
   ]
  },
  {
   "cell_type": "code",
   "execution_count": 29,
   "id": "5eea7e10",
   "metadata": {},
   "outputs": [
    {
     "name": "stdout",
     "output_type": "stream",
     "text": [
      "my first name is divyanshu my last name is negi\n"
     ]
    }
   ],
   "source": [
    "print(\"my first name is {f} my last name is {l}\".format(l=last,f=first))"
   ]
  },
  {
   "cell_type": "code",
   "execution_count": null,
   "id": "d5fbb2e2",
   "metadata": {},
   "outputs": [],
   "source": []
  }
 ],
 "metadata": {
  "kernelspec": {
   "display_name": "Python 3",
   "language": "python",
   "name": "python3"
  },
  "language_info": {
   "codemirror_mode": {
    "name": "ipython",
    "version": 3
   },
   "file_extension": ".py",
   "mimetype": "text/x-python",
   "name": "python",
   "nbconvert_exporter": "python",
   "pygments_lexer": "ipython3",
   "version": "3.8.8"
  }
 },
 "nbformat": 4,
 "nbformat_minor": 5
}
